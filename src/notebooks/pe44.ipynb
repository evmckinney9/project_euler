{
 "cells": [
  {
   "cell_type": "markdown",
   "metadata": {},
   "source": [
    "Find the pair of pentagonal numbers, for which their sum and difference are pentagonal and their difference D is minimised; what is the value of D?\n"
   ]
  },
  {
   "cell_type": "code",
   "execution_count": 1,
   "metadata": {},
   "outputs": [],
   "source": [
    "from project_euler.sequences import pentagonal_numbers, is_pentagonal\n",
    "import numpy as np"
   ]
  },
  {
   "cell_type": "markdown",
   "metadata": {},
   "source": [
    "$$P_n = n (3n - 1) /2$$\n",
    "$$P_j + P_k = P_n$$\n",
    "$$k > j$$\n",
    "$$D =|P_k - P_j| = P_m$$\n"
   ]
  },
  {
   "cell_type": "code",
   "execution_count": 2,
   "metadata": {},
   "outputs": [
    {
     "name": "stdout",
     "output_type": "stream",
     "text": [
      "1020 2167 1560090 7042750 5482660\n",
      "Minimum difference:  5482660\n"
     ]
    }
   ],
   "source": [
    "# Set a limit\n",
    "limit = 10000  # adjust as needed\n",
    "\n",
    "# Generate all pentagonal numbers up to the limit\n",
    "pentagonals = set(pentagonal_numbers(n) for n in range(1, limit))\n",
    "\n",
    "min_difference = np.inf\n",
    "\n",
    "# Iterate through each pair of pentagonal numbers\n",
    "for j in range(1, limit):\n",
    "    for k in range(j + 1, limit):\n",
    "        pj, pk = pentagonal_numbers(j), pentagonal_numbers(k)\n",
    "        if pk - pj in pentagonals and pk + pj in pentagonals:\n",
    "            min_difference = min(min_difference, pk - pj)\n",
    "            print(j, k, pj, pk, min_difference)\n",
    "\n",
    "print(\"Minimum difference: \", min_difference)"
   ]
  }
 ],
 "metadata": {
  "kernelspec": {
   "display_name": ".venv",
   "language": "python",
   "name": "python3"
  },
  "language_info": {
   "codemirror_mode": {
    "name": "ipython",
    "version": 3
   },
   "file_extension": ".py",
   "mimetype": "text/x-python",
   "name": "python",
   "nbconvert_exporter": "python",
   "pygments_lexer": "ipython3",
   "version": "3.9.17"
  },
  "orig_nbformat": 4
 },
 "nbformat": 4,
 "nbformat_minor": 2
}
