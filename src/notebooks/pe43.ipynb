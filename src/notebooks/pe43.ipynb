{
 "cells": [
  {
   "cell_type": "markdown",
   "metadata": {},
   "source": [
    "Find the sum of all to pandigital numbers with this property.\n"
   ]
  },
  {
   "cell_type": "code",
   "execution_count": 4,
   "metadata": {},
   "outputs": [],
   "source": [
    "from project_euler.sequences import gen_pandigital"
   ]
  },
  {
   "cell_type": "code",
   "execution_count": 6,
   "metadata": {},
   "outputs": [
    {
     "name": "stdout",
     "output_type": "stream",
     "text": [
      "16695334890\n"
     ]
    }
   ],
   "source": [
    "# iterate through pandigital numbers\n",
    "primes = [2, 3, 5, 7, 11, 13, 17]\n",
    "total = 0\n",
    "for c in gen_pandigital(9, include_zero=True):\n",
    "    for i in range(7):\n",
    "        sub = int(str(c)[i + 1 : i + 4])\n",
    "        if sub % primes[i] != 0:\n",
    "            break\n",
    "    else:\n",
    "        total += c\n",
    "print(total)"
   ]
  }
 ],
 "metadata": {
  "kernelspec": {
   "display_name": ".venv",
   "language": "python",
   "name": "python3"
  },
  "language_info": {
   "codemirror_mode": {
    "name": "ipython",
    "version": 3
   },
   "file_extension": ".py",
   "mimetype": "text/x-python",
   "name": "python",
   "nbconvert_exporter": "python",
   "pygments_lexer": "ipython3",
   "version": "3.9.17"
  },
  "orig_nbformat": 4
 },
 "nbformat": 4,
 "nbformat_minor": 2
}
