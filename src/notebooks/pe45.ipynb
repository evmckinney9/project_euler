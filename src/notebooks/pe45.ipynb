{
 "cells": [
  {
   "cell_type": "code",
   "execution_count": 4,
   "metadata": {},
   "outputs": [],
   "source": [
    "from project_euler.sequences import pentagonal_numbers, hexagonal_numbers"
   ]
  },
  {
   "cell_type": "code",
   "execution_count": 3,
   "metadata": {},
   "outputs": [
    {
     "name": "stdout",
     "output_type": "stream",
     "text": [
      "1533776805\n"
     ]
    }
   ],
   "source": [
    "# Generate the next hexagonal and pentagonal numbers\n",
    "h, p = 144, 166\n",
    "\n",
    "while True:\n",
    "    hexagonal_number = hexagonal_numbers(h)\n",
    "    pentagonal_number = pentagonal_numbers(p)\n",
    "\n",
    "    if hexagonal_number == pentagonal_number:\n",
    "        print(hexagonal_number)\n",
    "        break\n",
    "    elif hexagonal_number < pentagonal_number:\n",
    "        h += 1\n",
    "    else:\n",
    "        p += 1"
   ]
  }
 ],
 "metadata": {
  "kernelspec": {
   "display_name": ".venv",
   "language": "python",
   "name": "python3"
  },
  "language_info": {
   "codemirror_mode": {
    "name": "ipython",
    "version": 3
   },
   "file_extension": ".py",
   "mimetype": "text/x-python",
   "name": "python",
   "nbconvert_exporter": "python",
   "pygments_lexer": "ipython3",
   "version": "3.9.17"
  },
  "orig_nbformat": 4
 },
 "nbformat": 4,
 "nbformat_minor": 2
}
